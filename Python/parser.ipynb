{
 "cells": [
  {
   "cell_type": "code",
   "execution_count": null,
   "metadata": {},
   "outputs": [],
   "source": [
    "# Install Pandas Datareader and schedule.\n",
    "\n",
    "pip install pandas-datareader\n",
    "pip install schedule"
   ]
  },
  {
   "cell_type": "code",
   "execution_count": null,
   "metadata": {},
   "outputs": [],
   "source": [
    "# Necessary imports:\n",
    "\n",
    "import datetime as dt \n",
    "from pandas_datareader import data as pdr\n",
    "import schedule"
   ]
  },
  {
   "cell_type": "code",
   "execution_count": null,
   "metadata": {},
   "outputs": [],
   "source": [
    "# Template, all script settings.\n",
    "\n",
    "def NYSE():\n",
    "\n",
    "  stocks = ['GAPL', 'GIPL']\n",
    "  # with open(r'C:\\folder_name\\file_name.txt') as file:\n",
    "  #   stocks = eval(file.read())\n",
    "  path = (r'C:\\folder_name\\\\')\n",
    "  file_name = 'file_name.csv'\n",
    "  # end = dt.datetime.now()\n",
    "  start = dt.datetime(2022, 1, 18)\n",
    "  # start = end - dt.timedelta(days=4)\n",
    "  end = dt.datetime(2022, 12, 22)\n",
    "  for item in stocks: \n",
    "    df = pdr.get_data_yahoo(symbols = stocks, start = start, end=end, interval='d').stack(\"Symbols\")\n",
    "    # df = pdr.get_data_yahoo(item, start = start, end = end, interval='d')\n",
    "    df.to_csv(path + file_name)\n",
    "    # stocks.to_csv(path + item + '.csv')\n",
    "    print('Done')\n",
    "    break\n",
    "\n",
    "def main():\n",
    "\n",
    "    # schedule.every(40).seconds.do(NYSE)\n",
    "    schedule.every().day.at('01:00').do(NYSE)\n",
    "\n",
    "    while True:\n",
    "        schedule.run_pending()\n",
    "\n",
    "if __name__ == '__main__':\n",
    "    main()"
   ]
  },
  {
   "cell_type": "code",
   "execution_count": null,
   "metadata": {},
   "outputs": [],
   "source": [
    "# An array of data, a list of stock tickers.\n",
    "\n",
    "stocks = ['GAPL', 'GIPL']"
   ]
  },
  {
   "cell_type": "code",
   "execution_count": null,
   "metadata": {},
   "outputs": [],
   "source": [
    "# Initial data array is taken from the file.\n",
    "# file_name.txt - must contain an array of data in the form ['GAPL', 'GIPL'].\n",
    "\n",
    "with open(r'C:\\folder_name\\file_name.txt') as file:\n",
    "  stocks = eval(file.read())"
   ]
  },
  {
   "cell_type": "code",
   "execution_count": null,
   "metadata": {},
   "outputs": [],
   "source": [
    "# Path and name of the file to save data.\n",
    "\n",
    "path = (r'C:\\folder_name\\\\')\n",
    "file_name = 'file_name.csv'"
   ]
  },
  {
   "cell_type": "code",
   "execution_count": null,
   "metadata": {},
   "outputs": [],
   "source": [
    "# Data period for downloading, fixed dates.\n",
    "\n",
    "start = dt.datetime(2022, 1, 18)\n",
    "end = dt.datetime(2022, 12, 22)"
   ]
  },
  {
   "cell_type": "code",
   "execution_count": null,
   "metadata": {},
   "outputs": [],
   "source": [
    "# The period for parsing is specified in the number of days.\n",
    "# The starting day is set to the minus side from the ending day. \n",
    "# In the example, for yesterday.\n",
    "\n",
    "end = dt.datetime.now()\n",
    "start = end - dt.timedelta(days=1)"
   ]
  },
  {
   "cell_type": "code",
   "execution_count": null,
   "metadata": {},
   "outputs": [],
   "source": [
    "# Parsing from Yahoo finance.\n",
    "# Create one file for all data.\n",
    "# interval='d' - download quotes for the daily interval.\n",
    "# .stack(\"Symbols\") - add the name of ticker in Symbols column to the received file.\n",
    "# df.to_csv(path + file_name) - Save the file to the specified directory with the specified file name.\n",
    "\n",
    "for item in stocks: \n",
    "  df = pdr.get_data_yahoo(symbols = stocks, start = start, end=end, interval='d').stack(\"Symbols\")\n",
    "  df.to_csv(path + file_name)\n",
    "  print('Done')\n",
    "  break"
   ]
  },
  {
   "cell_type": "code",
   "execution_count": null,
   "metadata": {},
   "outputs": [],
   "source": [
    "# Parsing from Yahoo finance.\n",
    "# Let's create a separate file for each ticker. \n",
    "# In this case file name = ticker name.\n",
    "\n",
    "for item in stocks: \n",
    "    df = pdr.get_data_yahoo(item, start = start, end=end, interval='d')\n",
    "    stocks.to_csv(path + item + '.csv')"
   ]
  },
  {
   "cell_type": "code",
   "execution_count": null,
   "metadata": {},
   "outputs": [],
   "source": [
    "# Script starts parser by time.\n",
    "# schedule.every(40).seconds.do(NYSE) - Running the script every 40 seconds.\n",
    "# schedule.every().day.at('01:00').do(NYSE) - Runs the NYSE script every day at 01:00 am.\n",
    "\n",
    "def NYSE():\n",
    "\n",
    "    # SCRIPT\n",
    "\n",
    "def main():\n",
    "    \n",
    "    # schedule.every(40).seconds.do(NYSE)\n",
    "    schedule.every().day.at('01:00').do(NYSE)\n",
    "\n",
    "    while True:\n",
    "        schedule.run_pending()\n",
    "\n",
    "if __name__ == '__main__':\n",
    "    main()"
   ]
  }
 ],
 "metadata": {
  "kernelspec": {
   "display_name": "Python 3.9.7 ('base')",
   "language": "python",
   "name": "python3"
  },
  "language_info": {
   "name": "python",
   "version": "3.9.7"
  },
  "orig_nbformat": 4,
  "vscode": {
   "interpreter": {
    "hash": "ad2bdc8ecc057115af97d19610ffacc2b4e99fae6737bb82f5d7fb13d2f2c186"
   }
  }
 },
 "nbformat": 4,
 "nbformat_minor": 2
}
